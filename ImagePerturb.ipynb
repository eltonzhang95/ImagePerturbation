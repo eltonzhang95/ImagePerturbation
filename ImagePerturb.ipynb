{
  "nbformat": 4,
  "nbformat_minor": 0,
  "metadata": {
    "colab": {
      "name": "ECE1513 Assignment 5",
      "provenance": [],
      "collapsed_sections": []
    },
    "kernelspec": {
      "name": "python3",
      "display_name": "Python 3"
    },
    "accelerator": "GPU"
  },
  "cells": [
    {
      "cell_type": "markdown",
      "metadata": {
        "id": "VBPCa-venlpp",
        "colab_type": "text"
      },
      "source": [
        "# Ziqi Zhang - 1001374684\n",
        "# Assignment 5"
      ]
    },
    {
      "cell_type": "markdown",
      "metadata": {
        "id": "0WvLfjPpqCGx",
        "colab_type": "text"
      },
      "source": [
        "# From Assignment 4"
      ]
    },
    {
      "cell_type": "code",
      "metadata": {
        "id": "51ZzyDQzRIZi",
        "colab_type": "code",
        "outputId": "eb9ac033-21ec-4af0-a653-ab803c0c5a7e",
        "colab": {
          "base_uri": "https://localhost:8080/",
          "height": 123
        }
      },
      "source": [
        "from google.colab import drive\n",
        "drive.mount('/content/drive')"
      ],
      "execution_count": 0,
      "outputs": [
        {
          "output_type": "stream",
          "text": [
            "Go to this URL in a browser: https://accounts.google.com/o/oauth2/auth?client_id=947318989803-6bn6qk8qdgf4n4g3pfee6491hc0brc4i.apps.googleusercontent.com&redirect_uri=urn%3aietf%3awg%3aoauth%3a2.0%3aoob&response_type=code&scope=email%20https%3a%2f%2fwww.googleapis.com%2fauth%2fdocs.test%20https%3a%2f%2fwww.googleapis.com%2fauth%2fdrive%20https%3a%2f%2fwww.googleapis.com%2fauth%2fdrive.photos.readonly%20https%3a%2f%2fwww.googleapis.com%2fauth%2fpeopleapi.readonly\n",
            "\n",
            "Enter your authorization code:\n",
            "··········\n",
            "Mounted at /content/drive\n"
          ],
          "name": "stdout"
        }
      ]
    },
    {
      "cell_type": "markdown",
      "metadata": {
        "id": "pxMUmlEENLXc",
        "colab_type": "text"
      },
      "source": [
        "Let's first get the imports out of the way."
      ]
    },
    {
      "cell_type": "code",
      "metadata": {
        "id": "v0yDWKUrCBiX",
        "colab_type": "code",
        "colab": {}
      },
      "source": [
        "import array\n",
        "import gzip\n",
        "import itertools\n",
        "import numpy\n",
        "import numpy.random as npr\n",
        "import os\n",
        "import struct\n",
        "import time\n",
        "from os import path\n",
        "import urllib.request\n",
        "\n",
        "import jax.numpy as np\n",
        "from jax.api import jit, grad\n",
        "from jax.config import config\n",
        "from jax.scipy.special import logsumexp\n",
        "from jax import random"
      ],
      "execution_count": 0,
      "outputs": []
    },
    {
      "cell_type": "markdown",
      "metadata": {
        "id": "nIp--T57NGrU",
        "colab_type": "text"
      },
      "source": [
        "The following cell contains boilerplate code to download and load MNIST data."
      ]
    },
    {
      "cell_type": "code",
      "metadata": {
        "id": "Du24u5vtDEIn",
        "colab_type": "code",
        "outputId": "6a89864e-482d-4659-8e39-ce7f8f3428a8",
        "colab": {
          "base_uri": "https://localhost:8080/",
          "height": 86
        }
      },
      "source": [
        "_DATA = \"/tmp/\"\n",
        "\n",
        "def _download(url, filename):\n",
        "  \"\"\"Download a url to a file in the JAX data temp directory.\"\"\"\n",
        "  if not path.exists(_DATA):\n",
        "    os.makedirs(_DATA)\n",
        "  out_file = path.join(_DATA, filename)\n",
        "  if not path.isfile(out_file):\n",
        "    urllib.request.urlretrieve(url, out_file)\n",
        "    print(\"downloaded {} to {}\".format(url, _DATA))\n",
        "\n",
        "\n",
        "def _partial_flatten(x):\n",
        "  \"\"\"Flatten all but the first dimension of an ndarray.\"\"\"\n",
        "  return numpy.reshape(x, (x.shape[0], -1))\n",
        "\n",
        "\n",
        "def _one_hot(x, k, dtype=numpy.float32):\n",
        "  \"\"\"Create a one-hot encoding of x of size k.\"\"\"\n",
        "  return numpy.array(x[:, None] == numpy.arange(k), dtype)\n",
        "\n",
        "\n",
        "def mnist_raw():\n",
        "  \"\"\"Download and parse the raw MNIST dataset.\"\"\"\n",
        "  # CVDF mirror of http://yann.lecun.com/exdb/mnist/\n",
        "  base_url = \"https://storage.googleapis.com/cvdf-datasets/mnist/\"\n",
        "\n",
        "  def parse_labels(filename):\n",
        "    with gzip.open(filename, \"rb\") as fh:\n",
        "      _ = struct.unpack(\">II\", fh.read(8))\n",
        "      return numpy.array(array.array(\"B\", fh.read()), dtype=numpy.uint8)\n",
        "\n",
        "  def parse_images(filename):\n",
        "    with gzip.open(filename, \"rb\") as fh:\n",
        "      _, num_data, rows, cols = struct.unpack(\">IIII\", fh.read(16))\n",
        "      return numpy.array(array.array(\"B\", fh.read()),\n",
        "                      dtype=numpy.uint8).reshape(num_data, rows, cols)\n",
        "\n",
        "  for filename in [\"train-images-idx3-ubyte.gz\", \"train-labels-idx1-ubyte.gz\",\n",
        "                   \"t10k-images-idx3-ubyte.gz\", \"t10k-labels-idx1-ubyte.gz\"]:\n",
        "    _download(base_url + filename, filename)\n",
        "\n",
        "  train_images = parse_images(path.join(_DATA, \"train-images-idx3-ubyte.gz\"))\n",
        "  train_labels = parse_labels(path.join(_DATA, \"train-labels-idx1-ubyte.gz\"))\n",
        "  test_images = parse_images(path.join(_DATA, \"t10k-images-idx3-ubyte.gz\"))\n",
        "  test_labels = parse_labels(path.join(_DATA, \"t10k-labels-idx1-ubyte.gz\"))\n",
        "\n",
        "  return train_images, train_labels, test_images, test_labels\n",
        "\n",
        "\n",
        "def mnist(create_outliers=False):\n",
        "  \"\"\"Download, parse and process MNIST data to unit scale and one-hot labels.\"\"\"\n",
        "  train_images, train_labels, test_images, test_labels = mnist_raw()\n",
        "\n",
        "  train_images = _partial_flatten(train_images) / numpy.float32(255.)\n",
        "  test_images = _partial_flatten(test_images) / numpy.float32(255.)\n",
        "  train_labels = _one_hot(train_labels, 10)\n",
        "  test_labels = _one_hot(test_labels, 10)\n",
        "\n",
        "  if create_outliers:\n",
        "    mum_outliers = 30000\n",
        "    perm = numpy.random.RandomState(0).permutation(mum_outliers)\n",
        "    train_images[:mum_outliers] = train_images[:mum_outliers][perm]\n",
        "\n",
        "  return train_images, train_labels, test_images, test_labels\n",
        "\n",
        "def shape_as_image(images, labels, dummy_dim=False):\n",
        "  target_shape = (-1, 1, 28, 28, 1) if dummy_dim else (-1, 28, 28, 1)\n",
        "  return np.reshape(images, target_shape), labels\n",
        "\n",
        "train_images, train_labels, test_images, test_labels = mnist(create_outliers=False)\n",
        "num_train = train_images.shape[0]"
      ],
      "execution_count": 0,
      "outputs": [
        {
          "output_type": "stream",
          "text": [
            "downloaded https://storage.googleapis.com/cvdf-datasets/mnist/train-images-idx3-ubyte.gz to /tmp/\n",
            "downloaded https://storage.googleapis.com/cvdf-datasets/mnist/train-labels-idx1-ubyte.gz to /tmp/\n",
            "downloaded https://storage.googleapis.com/cvdf-datasets/mnist/t10k-images-idx3-ubyte.gz to /tmp/\n",
            "downloaded https://storage.googleapis.com/cvdf-datasets/mnist/t10k-labels-idx1-ubyte.gz to /tmp/\n"
          ],
          "name": "stdout"
        }
      ]
    },
    {
      "cell_type": "markdown",
      "metadata": {
        "id": "ILZ-q5PTMohU",
        "colab_type": "text"
      },
      "source": [
        "The following cell defines the accuracy of our model and how to initialize its parameters. "
      ]
    },
    {
      "cell_type": "code",
      "metadata": {
        "id": "UDjCuIGzIAjf",
        "colab_type": "code",
        "colab": {}
      },
      "source": [
        "def accuracy(params, batch):\n",
        "  inputs, targets = batch\n",
        "  target_class = np.argmax(targets, axis=1)\n",
        "  predicted_class = np.argmax(predict(params, inputs), axis=1)\n",
        "  return np.mean(predicted_class == target_class)\n",
        "\n",
        "def init_random_params(layer_sizes, rng=npr.RandomState(0)):\n",
        "  scale = 0.1\n",
        "  return [(scale * rng.randn(m, n), scale * rng.randn(n))\n",
        "          for m, n, in zip(layer_sizes[:-1], layer_sizes[1:])]"
      ],
      "execution_count": 0,
      "outputs": []
    },
    {
      "cell_type": "markdown",
      "metadata": {
        "id": "PKroKJ6TOETY",
        "colab_type": "text"
      },
      "source": [
        "The following cell creates a Python generator for our dataset. It outputs one batch of $n$ training examples at a time. "
      ]
    },
    {
      "cell_type": "code",
      "metadata": {
        "id": "_6lLT1klOMIn",
        "colab_type": "code",
        "colab": {}
      },
      "source": [
        "batch_size = 128\n",
        "num_complete_batches, leftover = divmod(num_train, batch_size)\n",
        "num_batches = num_complete_batches + bool(leftover)\n",
        "\n",
        "def data_stream():\n",
        "  rng = npr.RandomState(0)\n",
        "  while True:\n",
        "    perm = rng.permutation(num_train)\n",
        "    for i in range(num_batches):\n",
        "      batch_idx = perm[i * batch_size:(i + 1) * batch_size]\n",
        "      yield train_images[batch_idx], train_labels[batch_idx]\n",
        "batches = data_stream()"
      ],
      "execution_count": 0,
      "outputs": []
    },
    {
      "cell_type": "markdown",
      "metadata": {
        "id": "Tqo4M7uNOvzo",
        "colab_type": "text"
      },
      "source": [
        "This is now the proper training loop for our fully-connected neural network. "
      ]
    },
    {
      "cell_type": "markdown",
      "metadata": {
        "id": "s9yFvjncWk8G",
        "colab_type": "text"
      },
      "source": [
        "Before we get started, we need to import two small libraries that contain boilerplate code for common neural network layer types and for optimizers like mini-batch SGD."
      ]
    },
    {
      "cell_type": "code",
      "metadata": {
        "id": "tvLxNfXtXCRb",
        "colab_type": "code",
        "colab": {}
      },
      "source": [
        "from jax.experimental import optimizers\n",
        "from jax.experimental import stax\n",
        "import matplotlib.pyplot as plt"
      ],
      "execution_count": 0,
      "outputs": []
    },
    {
      "cell_type": "markdown",
      "metadata": {
        "id": "nNwMlXqfXI8G",
        "colab_type": "text"
      },
      "source": [
        "Here is a fully-connected neural network architecture, like the one of Problem 1, but this time defined with `stax`"
      ]
    },
    {
      "cell_type": "code",
      "metadata": {
        "id": "Y4wu1XqFds4X",
        "colab_type": "code",
        "colab": {}
      },
      "source": [
        "init_random_params, predict = stax.serial(\n",
        "    stax.Conv(512, (8, 8), padding='SAME', strides=(2, 2)),\n",
        "    stax.Relu,\n",
        "    stax.MaxPool((2, 2)),\n",
        "    stax.Conv(64, (4, 4), padding='VALID', strides=(2, 2)),\n",
        "    stax.Relu,\n",
        "    stax.MaxPool((2, 2)),\n",
        "    stax.Flatten,\n",
        "    stax.Dense(32),\n",
        "    stax.Relu,\n",
        "    stax.Dense(10),\n",
        ")"
      ],
      "execution_count": 0,
      "outputs": []
    },
    {
      "cell_type": "markdown",
      "metadata": {
        "id": "nEW_OcOCdwFX",
        "colab_type": "text"
      },
      "source": [
        "We redefine the cross-entropy loss for this model. As done in Problem 1, complete the return line below (it's identical). "
      ]
    },
    {
      "cell_type": "code",
      "metadata": {
        "id": "zQEeOtAEdvYn",
        "colab_type": "code",
        "colab": {}
      },
      "source": [
        "def loss(params, batch):\n",
        "  inputs, targets = batch\n",
        "  logits = predict(params, inputs)\n",
        "  preds  = stax.logsoftmax(logits)\n",
        "  return -np.mean(np.sum(targets*preds, axis=1))"
      ],
      "execution_count": 0,
      "outputs": []
    },
    {
      "cell_type": "markdown",
      "metadata": {
        "id": "8ZBxTvCweJbN",
        "colab_type": "text"
      },
      "source": [
        "Next, we define the mini-batch SGD optimizer, this time with the optimizers library in JAX. "
      ]
    },
    {
      "cell_type": "code",
      "metadata": {
        "id": "peG-cAZ0eGTG",
        "colab_type": "code",
        "colab": {}
      },
      "source": [
        "learning_rate = 0.1\n",
        "opt_init, opt_update, get_params = optimizers.sgd(learning_rate)\n",
        "\n",
        "@jit\n",
        "def update(_, i, opt_state, batch):\n",
        "  params = get_params(opt_state)\n",
        "  return opt_update(i, grad(loss)(params, batch), opt_state)"
      ],
      "execution_count": 0,
      "outputs": []
    },
    {
      "cell_type": "markdown",
      "metadata": {
        "id": "gVx2h8lqeoTD",
        "colab_type": "text"
      },
      "source": [
        "The next cell contains our training loop, very similar to Problem 1. "
      ]
    },
    {
      "cell_type": "code",
      "metadata": {
        "id": "41Y6wwFzb-mk",
        "colab_type": "code",
        "outputId": "6f642848-1051-47fc-ae3a-5eb2899fb574",
        "colab": {
          "base_uri": "https://localhost:8080/",
          "height": 206
        }
      },
      "source": [
        "num_epochs = 11\n",
        "\n",
        "key = random.PRNGKey(123)\n",
        "_, init_params = init_random_params(key, (-1, 28, 28, 1))\n",
        "opt_state = opt_init(init_params)\n",
        "itercount = itertools.count()\n",
        "\n",
        "for epoch in range(1, num_epochs + 1):\n",
        "  for _ in range(num_batches):\n",
        "    opt_state = update(key, next(itercount), opt_state, shape_as_image(*next(batches)))\n",
        "\n",
        "  params = get_params(opt_state)\n",
        "  test_acc = accuracy(params, shape_as_image(test_images, test_labels))\n",
        "  test_loss = loss(params, shape_as_image(test_images, test_labels))\n",
        "  print('Test set loss, accuracy (%): ({:.2f}, {:.2f})'.format(test_loss, 100 * test_acc))"
      ],
      "execution_count": 0,
      "outputs": [
        {
          "output_type": "stream",
          "text": [
            "Test set loss, accuracy (%): (0.07, 97.78)\n",
            "Test set loss, accuracy (%): (0.04, 98.57)\n",
            "Test set loss, accuracy (%): (0.04, 98.87)\n",
            "Test set loss, accuracy (%): (0.03, 98.91)\n",
            "Test set loss, accuracy (%): (0.03, 99.07)\n",
            "Test set loss, accuracy (%): (0.03, 99.05)\n",
            "Test set loss, accuracy (%): (0.02, 99.26)\n",
            "Test set loss, accuracy (%): (0.02, 99.17)\n",
            "Test set loss, accuracy (%): (0.04, 98.78)\n",
            "Test set loss, accuracy (%): (0.02, 99.19)\n",
            "Test set loss, accuracy (%): (0.03, 98.88)\n"
          ],
          "name": "stdout"
        }
      ]
    },
    {
      "cell_type": "markdown",
      "metadata": {
        "id": "YLF2B3OCqWP-",
        "colab_type": "text"
      },
      "source": [
        "# Assignment 5\n"
      ]
    },
    {
      "cell_type": "markdown",
      "metadata": {
        "id": "ac3TQKOXVyOs",
        "colab_type": "text"
      },
      "source": [
        "# Problem 1"
      ]
    },
    {
      "cell_type": "markdown",
      "metadata": {
        "id": "CQ3HrD2DUzp1",
        "colab_type": "text"
      },
      "source": [
        "We choose the first image to be transformed"
      ]
    },
    {
      "cell_type": "code",
      "metadata": {
        "id": "SfIcTFAvqj_6",
        "colab_type": "code",
        "outputId": "a5db9e3a-2498-4c31-fc0f-e7b43a87f416",
        "colab": {
          "base_uri": "https://localhost:8080/",
          "height": 282
        }
      },
      "source": [
        "img = test_images[0].reshape(28,28)\n",
        "plt.imshow(img, cmap=\"gray\")"
      ],
      "execution_count": 0,
      "outputs": [
        {
          "output_type": "execute_result",
          "data": {
            "text/plain": [
              "<matplotlib.image.AxesImage at 0x7f9ff02e5080>"
            ]
          },
          "metadata": {
            "tags": []
          },
          "execution_count": 11
        },
        {
          "output_type": "display_data",
          "data": {
            "image/png": "[encoded data removed]",
            "text/plain": [
              "<Figure size 432x288 with 1 Axes>"
            ]
          },
          "metadata": {
            "tags": []
          }
        }
      ]
    },
    {
      "cell_type": "markdown",
      "metadata": {
        "id": "2ZjMeW88VEfc",
        "colab_type": "text"
      },
      "source": [
        "Perturb image"
      ]
    },
    {
      "cell_type": "code",
      "metadata": {
        "id": "8nOgxE2-VAAu",
        "colab_type": "code",
        "outputId": "a2c5b43a-eb4a-4993-972e-4f1dcf98939b",
        "colab": {
          "base_uri": "https://localhost:8080/",
          "height": 282
        }
      },
      "source": [
        "pert_img = img + 0.3 * np.sign((grad(loss,1)(params, shape_as_image(test_images[0], test_labels[0])))[0][0,:,:,0])\n",
        "plt.imshow(pert_img, cmap=\"gray\")"
      ],
      "execution_count": 0,
      "outputs": [
        {
          "output_type": "execute_result",
          "data": {
            "text/plain": [
              "<matplotlib.image.AxesImage at 0x7f9fca472668>"
            ]
          },
          "metadata": {
            "tags": []
          },
          "execution_count": 12
        },
        {
          "output_type": "display_data",
          "data": {
            "image/png": "[encoded data removed]",
            "text/plain": [
              "<Figure size 432x288 with 1 Axes>"
            ]
          },
          "metadata": {
            "tags": []
          }
        }
      ]
    },
    {
      "cell_type": "markdown",
      "metadata": {
        "id": "buM2PwyFVdMA",
        "colab_type": "text"
      },
      "source": [
        "The neural network misclassified the image as 3"
      ]
    },
    {
      "cell_type": "code",
      "metadata": {
        "id": "JFeQH9i_VRiy",
        "colab_type": "code",
        "outputId": "90d4986d-dd27-4812-9e22-bfefe9939e43",
        "colab": {
          "base_uri": "https://localhost:8080/",
          "height": 68
        }
      },
      "source": [
        "image, label = shape_as_image(pert_img, test_labels[0])\n",
        "print('Prediction:', np.argmax(predict(params,image)))\n",
        "print('Prediction Matrix: ', predict(params,image))"
      ],
      "execution_count": 0,
      "outputs": [
        {
          "output_type": "stream",
          "text": [
            "Prediction: 3\n",
            "Prediction Matrix:  [[ -6.5814395  -4.259147   -1.0237657  10.607419   -3.839279    2.144324\n",
            "  -12.067197    1.8997463   4.541486   10.3046665]]\n"
          ],
          "name": "stdout"
        }
      ]
    },
    {
      "cell_type": "markdown",
      "metadata": {
        "id": "mDiKu132Vtfx",
        "colab_type": "text"
      },
      "source": [
        "# Problem 2"
      ]
    },
    {
      "cell_type": "markdown",
      "metadata": {
        "id": "YzUtM2XjZADT",
        "colab_type": "text"
      },
      "source": [
        "Choose the first 1000 images in the MNIST dataset. Test ε for [0.01, 0.02, 0.03, 0.05, 0.07, 0.1, 0.3, 0.5, 0.7, 1]"
      ]
    },
    {
      "cell_type": "code",
      "metadata": {
        "id": "Dt5ZqeOHYA1u",
        "colab_type": "code",
        "colab": {}
      },
      "source": [
        "from matplotlib.pyplot import figure"
      ],
      "execution_count": 0,
      "outputs": []
    },
    {
      "cell_type": "code",
      "metadata": {
        "id": "DS4s9aBiVwXJ",
        "colab_type": "code",
        "outputId": "62a980db-c001-4a4b-d68d-90e3ddd53e40",
        "colab": {
          "base_uri": "https://localhost:8080/",
          "height": 458
        }
      },
      "source": [
        "img_set = test_images[0:1000].reshape(1000,28,28)\n",
        "target_set = test_labels[0:1000]\n",
        "accuracy_epsl = []\n",
        "epsl_set = [0.01, 0.02, 0.03, 0.05, 0.07, 0.1, 0.3, 0.5, 0.7, 1]\n",
        "for epsl in epsl_set:\n",
        "  pert_img_set = img_set + epsl * np.sign((grad(loss,1)(params, shape_as_image(img_set, target_set)))[0][:,:,:,0])\n",
        "  test_acc = accuracy(params, shape_as_image(pert_img_set, target_set))\n",
        "  accuracy_epsl.append(test_acc)\n",
        "\n",
        "plt.figure(figsize=(13,7))\n",
        "plt.plot(epsl_set, accuracy_epsl)\n",
        "plt.title(\"Accuracy vs ε\")\n",
        "plt.xlabel(\"ε\")\n",
        "plt.ylabel(\"Accuracy\")\n",
        "plt.show()"
      ],
      "execution_count": 0,
      "outputs": [
        {
          "output_type": "display_data",
          "data": {
            "image/png": "[encoded data removed]",
            "text/plain": [
              "<Figure size 936x504 with 1 Axes>"
            ]
          },
          "metadata": {
            "tags": []
          }
        }
      ]
    },
    {
      "cell_type": "markdown",
      "metadata": {
        "id": "iu76eAWZZHyN",
        "colab_type": "text"
      },
      "source": [
        "# Problem 3"
      ]
    },
    {
      "cell_type": "markdown",
      "metadata": {
        "id": "6jj9AcQIdeLo",
        "colab_type": "text"
      },
      "source": [
        "The perturbed image is misclassified at the second iteration."
      ]
    },
    {
      "cell_type": "code",
      "metadata": {
        "id": "QWxWes9sZJ-L",
        "colab_type": "code",
        "outputId": "929a39fb-a039-4de9-a681-106ba4f9498d",
        "colab": {
          "base_uri": "https://localhost:8080/",
          "height": 480
        }
      },
      "source": [
        "fig = plt.figure(figsize=(20, 10))\n",
        "fig.tight_layout()\n",
        "plt.subplot(1, 6, 1)\n",
        "plt.axis('off')\n",
        "pert_img = test_images[0].reshape(28,28)\n",
        "plt.imshow(pert_img, cmap=\"gray\")\n",
        "plt.title(\"original image\")\n",
        "k = 5\n",
        "epsl = 0.3\n",
        "for i in range (k):\n",
        "  pert_img = pert_img + epsl/k * np.sign((grad(loss,1)(params, shape_as_image(pert_img, test_labels[0])))[0][0,:,:,0])\n",
        "  plt.subplot(1, 6, i+2)\n",
        "  plt.imshow(pert_img, cmap=\"gray\")\n",
        "  image, label = shape_as_image(pert_img, test_labels[0])\n",
        "  plt.title (\"iteration {}, predicted as {}\".format(i+1,np.argmax(predict(params,image))))\n",
        "  print('Prediction matrix @ itereation {0}: {1}\\n'.format(i+1, predict(params,image)))\n",
        "plt.show()"
      ],
      "execution_count": 0,
      "outputs": [
        {
          "output_type": "stream",
          "text": [
            "Prediction matrix @ itereation 1: [[ -5.927682    -1.826009    -0.54550487   5.0570035   -5.938745\n",
            "   -2.1181262  -12.314999    11.001078     1.7181077    5.602157  ]]\n",
            "\n",
            "Prediction matrix @ itereation 2: [[ -5.679646   -3.1200836  -1.0391263   7.5153556  -5.938224   -1.5849626\n",
            "  -11.819832    7.5863647   2.8668513   8.053486 ]]\n",
            "\n",
            "Prediction matrix @ itereation 3: [[ -5.0613403   -4.6333547   -1.0154663    9.406424    -6.2508583\n",
            "   -0.38084826 -10.803736     4.057193     4.6354604   10.43594   ]]\n",
            "\n",
            "Prediction matrix @ itereation 4: [[ -5.1362066  -6.525953   -2.1073217  10.434774   -5.832472    1.138476\n",
            "  -10.908064    1.4775141   5.694885   14.063976 ]]\n",
            "\n",
            "Prediction matrix @ itereation 5: [[ -5.706774   -9.019482   -4.3671246  10.749833   -5.8275366   2.4585705\n",
            "  -10.931724   -0.3552324   7.916349   17.585302 ]]\n",
            "\n"
          ],
          "name": "stdout"
        },
        {
          "output_type": "display_data",
          "data": {
            "image/png": "[encoded data removed]",
            "text/plain": [
              "<Figure size 1440x720 with 6 Axes>"
            ]
          },
          "metadata": {
            "tags": []
          }
        }
      ]
    },
    {
      "cell_type": "markdown",
      "metadata": {
        "id": "8OOogWq5dorQ",
        "colab_type": "text"
      },
      "source": [
        "# Problem 4"
      ]
    },
    {
      "cell_type": "markdown",
      "metadata": {
        "id": "nTSAMJ8BjEj9",
        "colab_type": "text"
      },
      "source": [
        "The performance improves for the same ε value when the step size is decreased."
      ]
    },
    {
      "cell_type": "code",
      "metadata": {
        "id": "nO36XQaBdoGj",
        "colab_type": "code",
        "outputId": "a79b62fa-95bb-40bc-f365-ca445864a983",
        "colab": {
          "base_uri": "https://localhost:8080/",
          "height": 458
        }
      },
      "source": [
        "img_set = test_images[0:1000].reshape(1000,28,28)\n",
        "target_set = test_labels[0:1000]\n",
        "accuracy_epsl = []\n",
        "epsl_set = [0.01, 0.02, 0.03, 0.05, 0.07, 0.1, 0.3, 0.5, 0.7, 1]\n",
        "k = 5\n",
        "for epsl in epsl_set:\n",
        "  for i in range(k):\n",
        "    pert_img_set = img_set + epsl/k * np.sign((grad(loss,1)(params, shape_as_image(img_set, target_set)))[0][:,:,:,0])\n",
        "  test_acc = accuracy(params, shape_as_image(pert_img_set, target_set))\n",
        "  accuracy_epsl.append(test_acc)\n",
        "\n",
        "plt.figure(figsize=(13,7))\n",
        "plt.plot(epsl_set, accuracy_epsl)\n",
        "plt.title(\"Accuracy vs ε\")\n",
        "plt.xlabel(\"ε\")\n",
        "plt.ylabel(\"Accuracy\")\n",
        "plt.show()"
      ],
      "execution_count": 0,
      "outputs": [
        {
          "output_type": "display_data",
          "data": {
            "image/png": "[encoded data removed]",
            "text/plain": [
              "<Figure size 936x504 with 1 Axes>"
            ]
          },
          "metadata": {
            "tags": []
          }
        }
      ]
    }
  ]
}